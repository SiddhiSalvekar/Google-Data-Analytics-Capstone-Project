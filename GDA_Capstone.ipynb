{
 "cells": [
  {
   "cell_type": "markdown",
   "metadata": {},
   "source": [
    "## Google Data Analytics - Capstone Project\n",
    "### Cyclistic - 'How does a bike-share navigate speedy success?'\n",
    "\n",
    "This notebook contains the steps taken to answer the main project question:\n",
    "* _How do annual members and casual riders use Cyclistic bikes differently?_ "
   ]
  },
  {
   "cell_type": "markdown",
   "metadata": {},
   "source": [
    "#### Preparing and Processing the data"
   ]
  },
  {
   "cell_type": "code",
   "execution_count": 1,
   "metadata": {},
   "outputs": [],
   "source": [
    "# Importing libraries\n",
    "import pandas as pd\n",
    "import numpy as np\n",
    "import matplotlib.pyplot as plt"
   ]
  },
  {
   "cell_type": "code",
   "execution_count": 2,
   "metadata": {},
   "outputs": [],
   "source": [
    "# Reading 12 files for the 12 most recent months of Cyclistic data\n",
    "df1 = pd.read_csv('202006-divvy-tripdata.csv')\n",
    "df2 = pd.read_csv('202007-divvy-tripdata.csv')\n",
    "df3 = pd.read_csv('202008-divvy-tripdata.csv')\n",
    "df4 = pd.read_csv('202009-divvy-tripdata.csv')\n",
    "df5 = pd.read_csv('202010-divvy-tripdata.csv')\n",
    "df6 = pd.read_csv('202011-divvy-tripdata.csv')\n",
    "df7 = pd.read_csv('202012-divvy-tripdata.csv')\n",
    "df8 = pd.read_csv('202101-divvy-tripdata.csv')\n",
    "df9 = pd.read_csv('202102-divvy-tripdata.csv')\n",
    "df10 = pd.read_csv('202103-divvy-tripdata.csv')\n",
    "df11 = pd.read_csv('202104-divvy-tripdata.csv')\n",
    "df12 = pd.read_csv('202105-divvy-tripdata.csv')"
   ]
  },
  {
   "cell_type": "code",
   "execution_count": 3,
   "metadata": {},
   "outputs": [],
   "source": [
    "# Stacking the 12 months data using pd.concat\n",
    "frames = [df1, df2, df3, df4, df5, df6, df7, df8, df9, df10, df11, df12]\n",
    "df = pd.concat(frames, ignore_index=True)"
   ]
  },
  {
   "cell_type": "code",
   "execution_count": 4,
   "metadata": {
    "scrolled": true
   },
   "outputs": [
    {
     "data": {
      "text/html": [
       "<div>\n",
       "<style scoped>\n",
       "    .dataframe tbody tr th:only-of-type {\n",
       "        vertical-align: middle;\n",
       "    }\n",
       "\n",
       "    .dataframe tbody tr th {\n",
       "        vertical-align: top;\n",
       "    }\n",
       "\n",
       "    .dataframe thead th {\n",
       "        text-align: right;\n",
       "    }\n",
       "</style>\n",
       "<table border=\"1\" class=\"dataframe\">\n",
       "  <thead>\n",
       "    <tr style=\"text-align: right;\">\n",
       "      <th></th>\n",
       "      <th>ride_id</th>\n",
       "      <th>rideable_type</th>\n",
       "      <th>started_at</th>\n",
       "      <th>ended_at</th>\n",
       "      <th>start_station_name</th>\n",
       "      <th>start_station_id</th>\n",
       "      <th>end_station_name</th>\n",
       "      <th>end_station_id</th>\n",
       "      <th>start_lat</th>\n",
       "      <th>start_lng</th>\n",
       "      <th>end_lat</th>\n",
       "      <th>end_lng</th>\n",
       "      <th>member_casual</th>\n",
       "    </tr>\n",
       "  </thead>\n",
       "  <tbody>\n",
       "    <tr>\n",
       "      <th>4073556</th>\n",
       "      <td>EF56D7D1D612AC11</td>\n",
       "      <td>electric_bike</td>\n",
       "      <td>2021-05-20 16:32:14</td>\n",
       "      <td>2021-05-20 16:35:39</td>\n",
       "      <td>Blackstone Ave &amp; Hyde Park Blvd</td>\n",
       "      <td>13398</td>\n",
       "      <td>NaN</td>\n",
       "      <td>NaN</td>\n",
       "      <td>41.802581</td>\n",
       "      <td>-87.590230</td>\n",
       "      <td>41.80000</td>\n",
       "      <td>-87.600000</td>\n",
       "      <td>member</td>\n",
       "    </tr>\n",
       "    <tr>\n",
       "      <th>4073557</th>\n",
       "      <td>745191CB9F21DE3C</td>\n",
       "      <td>classic_bike</td>\n",
       "      <td>2021-05-29 16:40:37</td>\n",
       "      <td>2021-05-29 17:22:37</td>\n",
       "      <td>Sheridan Rd &amp; Montrose Ave</td>\n",
       "      <td>TA1307000107</td>\n",
       "      <td>Michigan Ave &amp; Oak St</td>\n",
       "      <td>13042</td>\n",
       "      <td>41.961670</td>\n",
       "      <td>-87.654640</td>\n",
       "      <td>41.90096</td>\n",
       "      <td>-87.623777</td>\n",
       "      <td>casual</td>\n",
       "    </tr>\n",
       "    <tr>\n",
       "      <th>4073558</th>\n",
       "      <td>428575BAA5356BFF</td>\n",
       "      <td>electric_bike</td>\n",
       "      <td>2021-05-31 14:24:54</td>\n",
       "      <td>2021-05-31 14:31:38</td>\n",
       "      <td>Sheridan Rd &amp; Montrose Ave</td>\n",
       "      <td>TA1307000107</td>\n",
       "      <td>NaN</td>\n",
       "      <td>NaN</td>\n",
       "      <td>41.961525</td>\n",
       "      <td>-87.654651</td>\n",
       "      <td>41.95000</td>\n",
       "      <td>-87.650000</td>\n",
       "      <td>member</td>\n",
       "    </tr>\n",
       "    <tr>\n",
       "      <th>4073559</th>\n",
       "      <td>FC8A4A7AB7249662</td>\n",
       "      <td>electric_bike</td>\n",
       "      <td>2021-05-25 16:01:33</td>\n",
       "      <td>2021-05-25 16:07:37</td>\n",
       "      <td>Sheridan Rd &amp; Montrose Ave</td>\n",
       "      <td>TA1307000107</td>\n",
       "      <td>NaN</td>\n",
       "      <td>NaN</td>\n",
       "      <td>41.961654</td>\n",
       "      <td>-87.654721</td>\n",
       "      <td>41.98000</td>\n",
       "      <td>-87.660000</td>\n",
       "      <td>member</td>\n",
       "    </tr>\n",
       "    <tr>\n",
       "      <th>4073560</th>\n",
       "      <td>E873B8AA3EE84678</td>\n",
       "      <td>docked_bike</td>\n",
       "      <td>2021-05-12 12:22:14</td>\n",
       "      <td>2021-05-12 12:30:27</td>\n",
       "      <td>Sheridan Rd &amp; Montrose Ave</td>\n",
       "      <td>TA1307000107</td>\n",
       "      <td>Clark St &amp; Grace St</td>\n",
       "      <td>TA1307000127</td>\n",
       "      <td>41.961670</td>\n",
       "      <td>-87.654640</td>\n",
       "      <td>41.95078</td>\n",
       "      <td>-87.659172</td>\n",
       "      <td>casual</td>\n",
       "    </tr>\n",
       "  </tbody>\n",
       "</table>\n",
       "</div>"
      ],
      "text/plain": [
       "                  ride_id  rideable_type           started_at  \\\n",
       "4073556  EF56D7D1D612AC11  electric_bike  2021-05-20 16:32:14   \n",
       "4073557  745191CB9F21DE3C   classic_bike  2021-05-29 16:40:37   \n",
       "4073558  428575BAA5356BFF  electric_bike  2021-05-31 14:24:54   \n",
       "4073559  FC8A4A7AB7249662  electric_bike  2021-05-25 16:01:33   \n",
       "4073560  E873B8AA3EE84678    docked_bike  2021-05-12 12:22:14   \n",
       "\n",
       "                    ended_at               start_station_name  \\\n",
       "4073556  2021-05-20 16:35:39  Blackstone Ave & Hyde Park Blvd   \n",
       "4073557  2021-05-29 17:22:37       Sheridan Rd & Montrose Ave   \n",
       "4073558  2021-05-31 14:31:38       Sheridan Rd & Montrose Ave   \n",
       "4073559  2021-05-25 16:07:37       Sheridan Rd & Montrose Ave   \n",
       "4073560  2021-05-12 12:30:27       Sheridan Rd & Montrose Ave   \n",
       "\n",
       "        start_station_id       end_station_name end_station_id  start_lat  \\\n",
       "4073556            13398                    NaN            NaN  41.802581   \n",
       "4073557     TA1307000107  Michigan Ave & Oak St          13042  41.961670   \n",
       "4073558     TA1307000107                    NaN            NaN  41.961525   \n",
       "4073559     TA1307000107                    NaN            NaN  41.961654   \n",
       "4073560     TA1307000107    Clark St & Grace St   TA1307000127  41.961670   \n",
       "\n",
       "         start_lng   end_lat    end_lng member_casual  \n",
       "4073556 -87.590230  41.80000 -87.600000        member  \n",
       "4073557 -87.654640  41.90096 -87.623777        casual  \n",
       "4073558 -87.654651  41.95000 -87.650000        member  \n",
       "4073559 -87.654721  41.98000 -87.660000        member  \n",
       "4073560 -87.654640  41.95078 -87.659172        casual  "
      ]
     },
     "execution_count": 4,
     "metadata": {},
     "output_type": "execute_result"
    }
   ],
   "source": [
    "df.tail()"
   ]
  },
  {
   "cell_type": "code",
   "execution_count": 5,
   "metadata": {},
   "outputs": [
    {
     "data": {
      "text/plain": [
       "(4073561, 13)"
      ]
     },
     "execution_count": 5,
     "metadata": {},
     "output_type": "execute_result"
    }
   ],
   "source": [
    "df.shape"
   ]
  },
  {
   "cell_type": "code",
   "execution_count": 6,
   "metadata": {},
   "outputs": [
    {
     "data": {
      "text/plain": [
       "ride_id               0.000000\n",
       "rideable_type         0.000000\n",
       "started_at            0.000000\n",
       "ended_at              0.000000\n",
       "start_station_name    4.958193\n",
       "start_station_id      4.973560\n",
       "end_station_name      5.626281\n",
       "end_station_id        5.637598\n",
       "start_lat             0.000000\n",
       "start_lng             0.000000\n",
       "end_lat               0.123651\n",
       "end_lng               0.123651\n",
       "member_casual         0.000000\n",
       "dtype: float64"
      ]
     },
     "execution_count": 6,
     "metadata": {},
     "output_type": "execute_result"
    }
   ],
   "source": [
    "# Finding out percentage of null values in the dataset\n",
    "(df.isnull().sum()/df.shape[0])*100"
   ]
  },
  {
   "cell_type": "code",
   "execution_count": 7,
   "metadata": {},
   "outputs": [],
   "source": [
    "# Dropping the null values\n",
    "df.dropna(inplace=True)"
   ]
  },
  {
   "cell_type": "code",
   "execution_count": 8,
   "metadata": {},
   "outputs": [
    {
     "data": {
      "text/plain": [
       "(3759262, 13)"
      ]
     },
     "execution_count": 8,
     "metadata": {},
     "output_type": "execute_result"
    }
   ],
   "source": [
    "df.shape"
   ]
  },
  {
   "cell_type": "code",
   "execution_count": 9,
   "metadata": {},
   "outputs": [
    {
     "data": {
      "text/plain": [
       "ride_id                object\n",
       "rideable_type          object\n",
       "started_at             object\n",
       "ended_at               object\n",
       "start_station_name     object\n",
       "start_station_id       object\n",
       "end_station_name       object\n",
       "end_station_id         object\n",
       "start_lat             float64\n",
       "start_lng             float64\n",
       "end_lat               float64\n",
       "end_lng               float64\n",
       "member_casual          object\n",
       "dtype: object"
      ]
     },
     "execution_count": 9,
     "metadata": {},
     "output_type": "execute_result"
    }
   ],
   "source": [
    "# An inspection into the data types of variables\n",
    "df.dtypes"
   ]
  },
  {
   "cell_type": "code",
   "execution_count": 10,
   "metadata": {},
   "outputs": [],
   "source": [
    "# Converting the date variables to datetime datatype\n",
    "df['started_at'] = pd.to_datetime(df['started_at'], format = '%Y-%m-%d %H:%M:%S')\n",
    "df['ended_at'] = pd.to_datetime(df['ended_at'], format = '%Y-%m-%d %H:%M:%S')"
   ]
  },
  {
   "cell_type": "code",
   "execution_count": 11,
   "metadata": {},
   "outputs": [
    {
     "data": {
      "text/html": [
       "<div>\n",
       "<style scoped>\n",
       "    .dataframe tbody tr th:only-of-type {\n",
       "        vertical-align: middle;\n",
       "    }\n",
       "\n",
       "    .dataframe tbody tr th {\n",
       "        vertical-align: top;\n",
       "    }\n",
       "\n",
       "    .dataframe thead th {\n",
       "        text-align: right;\n",
       "    }\n",
       "</style>\n",
       "<table border=\"1\" class=\"dataframe\">\n",
       "  <thead>\n",
       "    <tr style=\"text-align: right;\">\n",
       "      <th></th>\n",
       "      <th>ride_id</th>\n",
       "      <th>rideable_type</th>\n",
       "      <th>started_at</th>\n",
       "      <th>ended_at</th>\n",
       "      <th>start_station_name</th>\n",
       "      <th>start_station_id</th>\n",
       "      <th>end_station_name</th>\n",
       "      <th>end_station_id</th>\n",
       "      <th>start_lat</th>\n",
       "      <th>start_lng</th>\n",
       "      <th>end_lat</th>\n",
       "      <th>end_lng</th>\n",
       "      <th>member_casual</th>\n",
       "    </tr>\n",
       "  </thead>\n",
       "  <tbody>\n",
       "    <tr>\n",
       "      <th>0</th>\n",
       "      <td>8CD5DE2C2B6C4CFC</td>\n",
       "      <td>docked_bike</td>\n",
       "      <td>2020-06-13 23:24:48</td>\n",
       "      <td>2020-06-13 23:36:55</td>\n",
       "      <td>Wilton Ave &amp; Belmont Ave</td>\n",
       "      <td>117</td>\n",
       "      <td>Damen Ave &amp; Clybourn Ave</td>\n",
       "      <td>163</td>\n",
       "      <td>41.940180</td>\n",
       "      <td>-87.653040</td>\n",
       "      <td>41.931931</td>\n",
       "      <td>-87.677856</td>\n",
       "      <td>casual</td>\n",
       "    </tr>\n",
       "    <tr>\n",
       "      <th>1</th>\n",
       "      <td>9A191EB2C751D85D</td>\n",
       "      <td>docked_bike</td>\n",
       "      <td>2020-06-26 07:26:10</td>\n",
       "      <td>2020-06-26 07:31:58</td>\n",
       "      <td>Federal St &amp; Polk St</td>\n",
       "      <td>41</td>\n",
       "      <td>Daley Center Plaza</td>\n",
       "      <td>81</td>\n",
       "      <td>41.872077</td>\n",
       "      <td>-87.629543</td>\n",
       "      <td>41.884241</td>\n",
       "      <td>-87.629634</td>\n",
       "      <td>member</td>\n",
       "    </tr>\n",
       "    <tr>\n",
       "      <th>2</th>\n",
       "      <td>F37D14B0B5659BCF</td>\n",
       "      <td>docked_bike</td>\n",
       "      <td>2020-06-23 17:12:41</td>\n",
       "      <td>2020-06-23 17:21:14</td>\n",
       "      <td>Daley Center Plaza</td>\n",
       "      <td>81</td>\n",
       "      <td>State St &amp; Harrison St</td>\n",
       "      <td>5</td>\n",
       "      <td>41.884241</td>\n",
       "      <td>-87.629634</td>\n",
       "      <td>41.874053</td>\n",
       "      <td>-87.627716</td>\n",
       "      <td>member</td>\n",
       "    </tr>\n",
       "    <tr>\n",
       "      <th>3</th>\n",
       "      <td>C41237B506E85FA1</td>\n",
       "      <td>docked_bike</td>\n",
       "      <td>2020-06-20 01:09:35</td>\n",
       "      <td>2020-06-20 01:28:24</td>\n",
       "      <td>Broadway &amp; Cornelia Ave</td>\n",
       "      <td>303</td>\n",
       "      <td>Broadway &amp; Berwyn Ave</td>\n",
       "      <td>294</td>\n",
       "      <td>41.945529</td>\n",
       "      <td>-87.646439</td>\n",
       "      <td>41.978353</td>\n",
       "      <td>-87.659753</td>\n",
       "      <td>casual</td>\n",
       "    </tr>\n",
       "    <tr>\n",
       "      <th>4</th>\n",
       "      <td>4B51B3B0BDA7787C</td>\n",
       "      <td>docked_bike</td>\n",
       "      <td>2020-06-25 16:59:25</td>\n",
       "      <td>2020-06-25 17:08:48</td>\n",
       "      <td>Sheffield Ave &amp; Webster Ave</td>\n",
       "      <td>327</td>\n",
       "      <td>Wilton Ave &amp; Belmont Ave</td>\n",
       "      <td>117</td>\n",
       "      <td>41.921540</td>\n",
       "      <td>-87.653818</td>\n",
       "      <td>41.940180</td>\n",
       "      <td>-87.653040</td>\n",
       "      <td>casual</td>\n",
       "    </tr>\n",
       "  </tbody>\n",
       "</table>\n",
       "</div>"
      ],
      "text/plain": [
       "            ride_id rideable_type          started_at            ended_at  \\\n",
       "0  8CD5DE2C2B6C4CFC   docked_bike 2020-06-13 23:24:48 2020-06-13 23:36:55   \n",
       "1  9A191EB2C751D85D   docked_bike 2020-06-26 07:26:10 2020-06-26 07:31:58   \n",
       "2  F37D14B0B5659BCF   docked_bike 2020-06-23 17:12:41 2020-06-23 17:21:14   \n",
       "3  C41237B506E85FA1   docked_bike 2020-06-20 01:09:35 2020-06-20 01:28:24   \n",
       "4  4B51B3B0BDA7787C   docked_bike 2020-06-25 16:59:25 2020-06-25 17:08:48   \n",
       "\n",
       "            start_station_name start_station_id          end_station_name  \\\n",
       "0     Wilton Ave & Belmont Ave              117  Damen Ave & Clybourn Ave   \n",
       "1         Federal St & Polk St               41        Daley Center Plaza   \n",
       "2           Daley Center Plaza               81    State St & Harrison St   \n",
       "3      Broadway & Cornelia Ave              303     Broadway & Berwyn Ave   \n",
       "4  Sheffield Ave & Webster Ave              327  Wilton Ave & Belmont Ave   \n",
       "\n",
       "  end_station_id  start_lat  start_lng    end_lat    end_lng member_casual  \n",
       "0            163  41.940180 -87.653040  41.931931 -87.677856        casual  \n",
       "1             81  41.872077 -87.629543  41.884241 -87.629634        member  \n",
       "2              5  41.884241 -87.629634  41.874053 -87.627716        member  \n",
       "3            294  41.945529 -87.646439  41.978353 -87.659753        casual  \n",
       "4            117  41.921540 -87.653818  41.940180 -87.653040        casual  "
      ]
     },
     "execution_count": 11,
     "metadata": {},
     "output_type": "execute_result"
    }
   ],
   "source": [
    "df.head()"
   ]
  },
  {
   "cell_type": "code",
   "execution_count": 12,
   "metadata": {},
   "outputs": [],
   "source": [
    "# Calculating Trip Duration using the start time and the end time and taking the difference\n",
    "# This variable is the key variable of interest. \n",
    "df['trip_duration'] = (df['ended_at'] - df['started_at']).astype('timedelta64[s]')\n",
    "df['trip_duration'] = round(df['trip_duration']/60, 3)"
   ]
  },
  {
   "cell_type": "code",
   "execution_count": 13,
   "metadata": {},
   "outputs": [
    {
     "data": {
      "text/html": [
       "<div>\n",
       "<style scoped>\n",
       "    .dataframe tbody tr th:only-of-type {\n",
       "        vertical-align: middle;\n",
       "    }\n",
       "\n",
       "    .dataframe tbody tr th {\n",
       "        vertical-align: top;\n",
       "    }\n",
       "\n",
       "    .dataframe thead th {\n",
       "        text-align: right;\n",
       "    }\n",
       "</style>\n",
       "<table border=\"1\" class=\"dataframe\">\n",
       "  <thead>\n",
       "    <tr style=\"text-align: right;\">\n",
       "      <th></th>\n",
       "      <th>ride_id</th>\n",
       "      <th>rideable_type</th>\n",
       "      <th>started_at</th>\n",
       "      <th>ended_at</th>\n",
       "      <th>start_station_name</th>\n",
       "      <th>start_station_id</th>\n",
       "      <th>end_station_name</th>\n",
       "      <th>end_station_id</th>\n",
       "      <th>start_lat</th>\n",
       "      <th>start_lng</th>\n",
       "      <th>end_lat</th>\n",
       "      <th>end_lng</th>\n",
       "      <th>member_casual</th>\n",
       "      <th>trip_duration</th>\n",
       "    </tr>\n",
       "  </thead>\n",
       "  <tbody>\n",
       "    <tr>\n",
       "      <th>0</th>\n",
       "      <td>8CD5DE2C2B6C4CFC</td>\n",
       "      <td>docked_bike</td>\n",
       "      <td>2020-06-13 23:24:48</td>\n",
       "      <td>2020-06-13 23:36:55</td>\n",
       "      <td>Wilton Ave &amp; Belmont Ave</td>\n",
       "      <td>117</td>\n",
       "      <td>Damen Ave &amp; Clybourn Ave</td>\n",
       "      <td>163</td>\n",
       "      <td>41.940180</td>\n",
       "      <td>-87.653040</td>\n",
       "      <td>41.931931</td>\n",
       "      <td>-87.677856</td>\n",
       "      <td>casual</td>\n",
       "      <td>12.117</td>\n",
       "    </tr>\n",
       "    <tr>\n",
       "      <th>1</th>\n",
       "      <td>9A191EB2C751D85D</td>\n",
       "      <td>docked_bike</td>\n",
       "      <td>2020-06-26 07:26:10</td>\n",
       "      <td>2020-06-26 07:31:58</td>\n",
       "      <td>Federal St &amp; Polk St</td>\n",
       "      <td>41</td>\n",
       "      <td>Daley Center Plaza</td>\n",
       "      <td>81</td>\n",
       "      <td>41.872077</td>\n",
       "      <td>-87.629543</td>\n",
       "      <td>41.884241</td>\n",
       "      <td>-87.629634</td>\n",
       "      <td>member</td>\n",
       "      <td>5.800</td>\n",
       "    </tr>\n",
       "    <tr>\n",
       "      <th>2</th>\n",
       "      <td>F37D14B0B5659BCF</td>\n",
       "      <td>docked_bike</td>\n",
       "      <td>2020-06-23 17:12:41</td>\n",
       "      <td>2020-06-23 17:21:14</td>\n",
       "      <td>Daley Center Plaza</td>\n",
       "      <td>81</td>\n",
       "      <td>State St &amp; Harrison St</td>\n",
       "      <td>5</td>\n",
       "      <td>41.884241</td>\n",
       "      <td>-87.629634</td>\n",
       "      <td>41.874053</td>\n",
       "      <td>-87.627716</td>\n",
       "      <td>member</td>\n",
       "      <td>8.550</td>\n",
       "    </tr>\n",
       "    <tr>\n",
       "      <th>3</th>\n",
       "      <td>C41237B506E85FA1</td>\n",
       "      <td>docked_bike</td>\n",
       "      <td>2020-06-20 01:09:35</td>\n",
       "      <td>2020-06-20 01:28:24</td>\n",
       "      <td>Broadway &amp; Cornelia Ave</td>\n",
       "      <td>303</td>\n",
       "      <td>Broadway &amp; Berwyn Ave</td>\n",
       "      <td>294</td>\n",
       "      <td>41.945529</td>\n",
       "      <td>-87.646439</td>\n",
       "      <td>41.978353</td>\n",
       "      <td>-87.659753</td>\n",
       "      <td>casual</td>\n",
       "      <td>18.817</td>\n",
       "    </tr>\n",
       "    <tr>\n",
       "      <th>4</th>\n",
       "      <td>4B51B3B0BDA7787C</td>\n",
       "      <td>docked_bike</td>\n",
       "      <td>2020-06-25 16:59:25</td>\n",
       "      <td>2020-06-25 17:08:48</td>\n",
       "      <td>Sheffield Ave &amp; Webster Ave</td>\n",
       "      <td>327</td>\n",
       "      <td>Wilton Ave &amp; Belmont Ave</td>\n",
       "      <td>117</td>\n",
       "      <td>41.921540</td>\n",
       "      <td>-87.653818</td>\n",
       "      <td>41.940180</td>\n",
       "      <td>-87.653040</td>\n",
       "      <td>casual</td>\n",
       "      <td>9.383</td>\n",
       "    </tr>\n",
       "  </tbody>\n",
       "</table>\n",
       "</div>"
      ],
      "text/plain": [
       "            ride_id rideable_type          started_at            ended_at  \\\n",
       "0  8CD5DE2C2B6C4CFC   docked_bike 2020-06-13 23:24:48 2020-06-13 23:36:55   \n",
       "1  9A191EB2C751D85D   docked_bike 2020-06-26 07:26:10 2020-06-26 07:31:58   \n",
       "2  F37D14B0B5659BCF   docked_bike 2020-06-23 17:12:41 2020-06-23 17:21:14   \n",
       "3  C41237B506E85FA1   docked_bike 2020-06-20 01:09:35 2020-06-20 01:28:24   \n",
       "4  4B51B3B0BDA7787C   docked_bike 2020-06-25 16:59:25 2020-06-25 17:08:48   \n",
       "\n",
       "            start_station_name start_station_id          end_station_name  \\\n",
       "0     Wilton Ave & Belmont Ave              117  Damen Ave & Clybourn Ave   \n",
       "1         Federal St & Polk St               41        Daley Center Plaza   \n",
       "2           Daley Center Plaza               81    State St & Harrison St   \n",
       "3      Broadway & Cornelia Ave              303     Broadway & Berwyn Ave   \n",
       "4  Sheffield Ave & Webster Ave              327  Wilton Ave & Belmont Ave   \n",
       "\n",
       "  end_station_id  start_lat  start_lng    end_lat    end_lng member_casual  \\\n",
       "0            163  41.940180 -87.653040  41.931931 -87.677856        casual   \n",
       "1             81  41.872077 -87.629543  41.884241 -87.629634        member   \n",
       "2              5  41.884241 -87.629634  41.874053 -87.627716        member   \n",
       "3            294  41.945529 -87.646439  41.978353 -87.659753        casual   \n",
       "4            117  41.921540 -87.653818  41.940180 -87.653040        casual   \n",
       "\n",
       "   trip_duration  \n",
       "0         12.117  \n",
       "1          5.800  \n",
       "2          8.550  \n",
       "3         18.817  \n",
       "4          9.383  "
      ]
     },
     "execution_count": 13,
     "metadata": {},
     "output_type": "execute_result"
    }
   ],
   "source": [
    "df.head()"
   ]
  },
  {
   "cell_type": "code",
   "execution_count": 14,
   "metadata": {},
   "outputs": [
    {
     "data": {
      "text/plain": [
       "10237"
      ]
     },
     "execution_count": 14,
     "metadata": {},
     "output_type": "execute_result"
    }
   ],
   "source": [
    "# Finding out wrongly entered values --- trip duration cannot be less than 0, since the start time should \n",
    "# always be earlier than the end time. \n",
    "df_wrong = df[df['trip_duration'] < 0]\n",
    "df_wrong.shape[0]"
   ]
  },
  {
   "cell_type": "markdown",
   "metadata": {},
   "source": [
    "There are 10.2k rows with trip duration less than 0 minutes"
   ]
  },
  {
   "cell_type": "markdown",
   "metadata": {},
   "source": [
    "### Analyzing the data"
   ]
  },
  {
   "cell_type": "code",
   "execution_count": 15,
   "metadata": {},
   "outputs": [
    {
     "data": {
      "text/plain": [
       "member    2181125\n",
       "casual    1578137\n",
       "Name: member_casual, dtype: int64"
      ]
     },
     "execution_count": 15,
     "metadata": {},
     "output_type": "execute_result"
    }
   ],
   "source": [
    "df['member_casual'].value_counts()"
   ]
  },
  {
   "cell_type": "code",
   "execution_count": 16,
   "metadata": {},
   "outputs": [
    {
     "name": "stdout",
     "output_type": "stream",
     "text": [
      "There are 602988 more Members than Casual Riders\n"
     ]
    }
   ],
   "source": [
    "print('There are {} more Members than Casual Riders'.format((df['member_casual'].value_counts()[0]) - df['member_casual'].value_counts()[1]))"
   ]
  },
  {
   "cell_type": "code",
   "execution_count": 17,
   "metadata": {},
   "outputs": [],
   "source": [
    "# We also do not need rows with trip duration exactly == 0 minutes\n",
    "zero_trip_duration = df[df['trip_duration'] == 0.000].index"
   ]
  },
  {
   "cell_type": "code",
   "execution_count": 18,
   "metadata": {},
   "outputs": [],
   "source": [
    "# Dropping the rows with trip duration = 0 \n",
    "df.drop(zero_trip_duration, inplace = True)"
   ]
  },
  {
   "cell_type": "code",
   "execution_count": 19,
   "metadata": {},
   "outputs": [],
   "source": [
    "wrong_index = df[df['trip_duration'] < 0].index"
   ]
  },
  {
   "cell_type": "code",
   "execution_count": 20,
   "metadata": {},
   "outputs": [],
   "source": [
    "# Dropping the rows with trip duration less than 0 \n",
    "df.drop(wrong_index, inplace=True)"
   ]
  },
  {
   "cell_type": "code",
   "execution_count": 21,
   "metadata": {},
   "outputs": [
    {
     "data": {
      "text/plain": [
       "(3748733, 14)"
      ]
     },
     "execution_count": 21,
     "metadata": {},
     "output_type": "execute_result"
    }
   ],
   "source": [
    "df.shape"
   ]
  },
  {
   "cell_type": "markdown",
   "metadata": {},
   "source": [
    "Descriptive Statistics of the Trip Duration variable"
   ]
  },
  {
   "cell_type": "code",
   "execution_count": 22,
   "metadata": {},
   "outputs": [
    {
     "data": {
      "text/plain": [
       "count    3748733.000\n",
       "mean          27.108\n",
       "std          245.108\n",
       "min            0.017\n",
       "25%            7.867\n",
       "50%           14.267\n",
       "75%           26.200\n",
       "max        54283.350\n",
       "Name: trip_duration, dtype: float64"
      ]
     },
     "execution_count": 22,
     "metadata": {},
     "output_type": "execute_result"
    }
   ],
   "source": [
    "round(df['trip_duration'].describe(),3)"
   ]
  },
  {
   "cell_type": "code",
   "execution_count": 24,
   "metadata": {},
   "outputs": [
    {
     "data": {
      "text/html": [
       "<div>\n",
       "<style scoped>\n",
       "    .dataframe tbody tr th:only-of-type {\n",
       "        vertical-align: middle;\n",
       "    }\n",
       "\n",
       "    .dataframe tbody tr th {\n",
       "        vertical-align: top;\n",
       "    }\n",
       "\n",
       "    .dataframe thead th {\n",
       "        text-align: right;\n",
       "    }\n",
       "</style>\n",
       "<table border=\"1\" class=\"dataframe\">\n",
       "  <thead>\n",
       "    <tr style=\"text-align: right;\">\n",
       "      <th></th>\n",
       "      <th>trip_duration</th>\n",
       "    </tr>\n",
       "  </thead>\n",
       "  <tbody>\n",
       "    <tr>\n",
       "      <th>count</th>\n",
       "      <td>2173843.000</td>\n",
       "    </tr>\n",
       "    <tr>\n",
       "      <th>mean</th>\n",
       "      <td>15.284</td>\n",
       "    </tr>\n",
       "    <tr>\n",
       "      <th>std</th>\n",
       "      <td>63.549</td>\n",
       "    </tr>\n",
       "    <tr>\n",
       "      <th>min</th>\n",
       "      <td>0.017</td>\n",
       "    </tr>\n",
       "    <tr>\n",
       "      <th>25%</th>\n",
       "      <td>6.433</td>\n",
       "    </tr>\n",
       "    <tr>\n",
       "      <th>50%</th>\n",
       "      <td>11.183</td>\n",
       "    </tr>\n",
       "    <tr>\n",
       "      <th>75%</th>\n",
       "      <td>19.383</td>\n",
       "    </tr>\n",
       "    <tr>\n",
       "      <th>max</th>\n",
       "      <td>41271.000</td>\n",
       "    </tr>\n",
       "  </tbody>\n",
       "</table>\n",
       "</div>"
      ],
      "text/plain": [
       "       trip_duration\n",
       "count    2173843.000\n",
       "mean          15.284\n",
       "std           63.549\n",
       "min            0.017\n",
       "25%            6.433\n",
       "50%           11.183\n",
       "75%           19.383\n",
       "max        41271.000"
      ]
     },
     "execution_count": 24,
     "metadata": {},
     "output_type": "execute_result"
    }
   ],
   "source": [
    "# Descriptive statistics for trip duration where the user type is a member. \n",
    "member_stats = pd.DataFrame(round(df[df['member_casual'] == 'member']['trip_duration'].describe(), 3))\n",
    "member_stats"
   ]
  },
  {
   "cell_type": "code",
   "execution_count": 25,
   "metadata": {},
   "outputs": [
    {
     "data": {
      "text/html": [
       "<div>\n",
       "<style scoped>\n",
       "    .dataframe tbody tr th:only-of-type {\n",
       "        vertical-align: middle;\n",
       "    }\n",
       "\n",
       "    .dataframe tbody tr th {\n",
       "        vertical-align: top;\n",
       "    }\n",
       "\n",
       "    .dataframe thead th {\n",
       "        text-align: right;\n",
       "    }\n",
       "</style>\n",
       "<table border=\"1\" class=\"dataframe\">\n",
       "  <thead>\n",
       "    <tr style=\"text-align: right;\">\n",
       "      <th></th>\n",
       "      <th>trip_duration</th>\n",
       "    </tr>\n",
       "  </thead>\n",
       "  <tbody>\n",
       "    <tr>\n",
       "      <th>count</th>\n",
       "      <td>1574890.000</td>\n",
       "    </tr>\n",
       "    <tr>\n",
       "      <th>mean</th>\n",
       "      <td>43.430</td>\n",
       "    </tr>\n",
       "    <tr>\n",
       "      <th>std</th>\n",
       "      <td>370.095</td>\n",
       "    </tr>\n",
       "    <tr>\n",
       "      <th>min</th>\n",
       "      <td>0.017</td>\n",
       "    </tr>\n",
       "    <tr>\n",
       "      <th>25%</th>\n",
       "      <td>11.400</td>\n",
       "    </tr>\n",
       "    <tr>\n",
       "      <th>50%</th>\n",
       "      <td>20.800</td>\n",
       "    </tr>\n",
       "    <tr>\n",
       "      <th>75%</th>\n",
       "      <td>39.500</td>\n",
       "    </tr>\n",
       "    <tr>\n",
       "      <th>max</th>\n",
       "      <td>54283.350</td>\n",
       "    </tr>\n",
       "  </tbody>\n",
       "</table>\n",
       "</div>"
      ],
      "text/plain": [
       "       trip_duration\n",
       "count    1574890.000\n",
       "mean          43.430\n",
       "std          370.095\n",
       "min            0.017\n",
       "25%           11.400\n",
       "50%           20.800\n",
       "75%           39.500\n",
       "max        54283.350"
      ]
     },
     "execution_count": 25,
     "metadata": {},
     "output_type": "execute_result"
    }
   ],
   "source": [
    "# Descriptive Statistics for trip duration where the user type is a Casual rider\n",
    "casual_stats = pd.DataFrame(round(df[df['member_casual'] == 'casual']['trip_duration'].describe(), 3))\n",
    "casual_stats"
   ]
  },
  {
   "cell_type": "code",
   "execution_count": 26,
   "metadata": {},
   "outputs": [
    {
     "data": {
      "text/html": [
       "<div>\n",
       "<style scoped>\n",
       "    .dataframe tbody tr th:only-of-type {\n",
       "        vertical-align: middle;\n",
       "    }\n",
       "\n",
       "    .dataframe tbody tr th {\n",
       "        vertical-align: top;\n",
       "    }\n",
       "\n",
       "    .dataframe thead th {\n",
       "        text-align: right;\n",
       "    }\n",
       "</style>\n",
       "<table border=\"1\" class=\"dataframe\">\n",
       "  <thead>\n",
       "    <tr style=\"text-align: right;\">\n",
       "      <th></th>\n",
       "      <th>ride_id</th>\n",
       "      <th>rideable_type</th>\n",
       "      <th>started_at</th>\n",
       "      <th>ended_at</th>\n",
       "      <th>start_station_name</th>\n",
       "      <th>start_station_id</th>\n",
       "      <th>end_station_name</th>\n",
       "      <th>end_station_id</th>\n",
       "      <th>start_lat</th>\n",
       "      <th>start_lng</th>\n",
       "      <th>end_lat</th>\n",
       "      <th>end_lng</th>\n",
       "      <th>member_casual</th>\n",
       "      <th>trip_duration</th>\n",
       "    </tr>\n",
       "  </thead>\n",
       "  <tbody>\n",
       "    <tr>\n",
       "      <th>0</th>\n",
       "      <td>8CD5DE2C2B6C4CFC</td>\n",
       "      <td>docked_bike</td>\n",
       "      <td>2020-06-13 23:24:48</td>\n",
       "      <td>2020-06-13 23:36:55</td>\n",
       "      <td>Wilton Ave &amp; Belmont Ave</td>\n",
       "      <td>117</td>\n",
       "      <td>Damen Ave &amp; Clybourn Ave</td>\n",
       "      <td>163</td>\n",
       "      <td>41.940180</td>\n",
       "      <td>-87.653040</td>\n",
       "      <td>41.931931</td>\n",
       "      <td>-87.677856</td>\n",
       "      <td>casual</td>\n",
       "      <td>12.117</td>\n",
       "    </tr>\n",
       "    <tr>\n",
       "      <th>1</th>\n",
       "      <td>9A191EB2C751D85D</td>\n",
       "      <td>docked_bike</td>\n",
       "      <td>2020-06-26 07:26:10</td>\n",
       "      <td>2020-06-26 07:31:58</td>\n",
       "      <td>Federal St &amp; Polk St</td>\n",
       "      <td>41</td>\n",
       "      <td>Daley Center Plaza</td>\n",
       "      <td>81</td>\n",
       "      <td>41.872077</td>\n",
       "      <td>-87.629543</td>\n",
       "      <td>41.884241</td>\n",
       "      <td>-87.629634</td>\n",
       "      <td>member</td>\n",
       "      <td>5.800</td>\n",
       "    </tr>\n",
       "    <tr>\n",
       "      <th>2</th>\n",
       "      <td>F37D14B0B5659BCF</td>\n",
       "      <td>docked_bike</td>\n",
       "      <td>2020-06-23 17:12:41</td>\n",
       "      <td>2020-06-23 17:21:14</td>\n",
       "      <td>Daley Center Plaza</td>\n",
       "      <td>81</td>\n",
       "      <td>State St &amp; Harrison St</td>\n",
       "      <td>5</td>\n",
       "      <td>41.884241</td>\n",
       "      <td>-87.629634</td>\n",
       "      <td>41.874053</td>\n",
       "      <td>-87.627716</td>\n",
       "      <td>member</td>\n",
       "      <td>8.550</td>\n",
       "    </tr>\n",
       "    <tr>\n",
       "      <th>3</th>\n",
       "      <td>C41237B506E85FA1</td>\n",
       "      <td>docked_bike</td>\n",
       "      <td>2020-06-20 01:09:35</td>\n",
       "      <td>2020-06-20 01:28:24</td>\n",
       "      <td>Broadway &amp; Cornelia Ave</td>\n",
       "      <td>303</td>\n",
       "      <td>Broadway &amp; Berwyn Ave</td>\n",
       "      <td>294</td>\n",
       "      <td>41.945529</td>\n",
       "      <td>-87.646439</td>\n",
       "      <td>41.978353</td>\n",
       "      <td>-87.659753</td>\n",
       "      <td>casual</td>\n",
       "      <td>18.817</td>\n",
       "    </tr>\n",
       "    <tr>\n",
       "      <th>4</th>\n",
       "      <td>4B51B3B0BDA7787C</td>\n",
       "      <td>docked_bike</td>\n",
       "      <td>2020-06-25 16:59:25</td>\n",
       "      <td>2020-06-25 17:08:48</td>\n",
       "      <td>Sheffield Ave &amp; Webster Ave</td>\n",
       "      <td>327</td>\n",
       "      <td>Wilton Ave &amp; Belmont Ave</td>\n",
       "      <td>117</td>\n",
       "      <td>41.921540</td>\n",
       "      <td>-87.653818</td>\n",
       "      <td>41.940180</td>\n",
       "      <td>-87.653040</td>\n",
       "      <td>casual</td>\n",
       "      <td>9.383</td>\n",
       "    </tr>\n",
       "  </tbody>\n",
       "</table>\n",
       "</div>"
      ],
      "text/plain": [
       "            ride_id rideable_type          started_at            ended_at  \\\n",
       "0  8CD5DE2C2B6C4CFC   docked_bike 2020-06-13 23:24:48 2020-06-13 23:36:55   \n",
       "1  9A191EB2C751D85D   docked_bike 2020-06-26 07:26:10 2020-06-26 07:31:58   \n",
       "2  F37D14B0B5659BCF   docked_bike 2020-06-23 17:12:41 2020-06-23 17:21:14   \n",
       "3  C41237B506E85FA1   docked_bike 2020-06-20 01:09:35 2020-06-20 01:28:24   \n",
       "4  4B51B3B0BDA7787C   docked_bike 2020-06-25 16:59:25 2020-06-25 17:08:48   \n",
       "\n",
       "            start_station_name start_station_id          end_station_name  \\\n",
       "0     Wilton Ave & Belmont Ave              117  Damen Ave & Clybourn Ave   \n",
       "1         Federal St & Polk St               41        Daley Center Plaza   \n",
       "2           Daley Center Plaza               81    State St & Harrison St   \n",
       "3      Broadway & Cornelia Ave              303     Broadway & Berwyn Ave   \n",
       "4  Sheffield Ave & Webster Ave              327  Wilton Ave & Belmont Ave   \n",
       "\n",
       "  end_station_id  start_lat  start_lng    end_lat    end_lng member_casual  \\\n",
       "0            163  41.940180 -87.653040  41.931931 -87.677856        casual   \n",
       "1             81  41.872077 -87.629543  41.884241 -87.629634        member   \n",
       "2              5  41.884241 -87.629634  41.874053 -87.627716        member   \n",
       "3            294  41.945529 -87.646439  41.978353 -87.659753        casual   \n",
       "4            117  41.921540 -87.653818  41.940180 -87.653040        casual   \n",
       "\n",
       "   trip_duration  \n",
       "0         12.117  \n",
       "1          5.800  \n",
       "2          8.550  \n",
       "3         18.817  \n",
       "4          9.383  "
      ]
     },
     "execution_count": 26,
     "metadata": {},
     "output_type": "execute_result"
    }
   ],
   "source": [
    "df.head()"
   ]
  },
  {
   "cell_type": "code",
   "execution_count": 27,
   "metadata": {},
   "outputs": [],
   "source": [
    "# Renaming the column to make more sense\n",
    "df.rename(columns = {'member_casual': 'user_type'}, inplace=True)"
   ]
  },
  {
   "cell_type": "code",
   "execution_count": 28,
   "metadata": {},
   "outputs": [
    {
     "data": {
      "text/plain": [
       "user_type\n",
       "casual    43.430082\n",
       "member    15.283836\n",
       "Name: trip_duration, dtype: float64"
      ]
     },
     "execution_count": 28,
     "metadata": {},
     "output_type": "execute_result"
    }
   ],
   "source": [
    "df.groupby(['user_type']).mean()['trip_duration']"
   ]
  },
  {
   "cell_type": "markdown",
   "metadata": {},
   "source": [
    "The average duration of trips is much higher for a casual rider than for an annual member. "
   ]
  },
  {
   "cell_type": "code",
   "execution_count": 29,
   "metadata": {},
   "outputs": [
    {
     "data": {
      "text/plain": [
       "user_type\n",
       "casual    20.800\n",
       "member    11.183\n",
       "Name: trip_duration, dtype: float64"
      ]
     },
     "execution_count": 29,
     "metadata": {},
     "output_type": "execute_result"
    }
   ],
   "source": [
    "df.groupby(['user_type']).median()['trip_duration']"
   ]
  },
  {
   "cell_type": "markdown",
   "metadata": {},
   "source": [
    "The median trip duration is of more interest in this project than the mean, since about 4000 records in the dataset contain trip durations of more than 1000 minutes. These outliers affect the mean trip duration. Hence, median trip duration is a better representative of the riding patterns. "
   ]
  },
  {
   "cell_type": "code",
   "execution_count": 30,
   "metadata": {},
   "outputs": [],
   "source": [
    "# Creating a variable to indicate the day of the week (0 being Monday)\n",
    "df['dayofweek'] = df['started_at'].dt.dayofweek"
   ]
  },
  {
   "cell_type": "code",
   "execution_count": 31,
   "metadata": {},
   "outputs": [
    {
     "data": {
      "text/html": [
       "<div>\n",
       "<style scoped>\n",
       "    .dataframe tbody tr th:only-of-type {\n",
       "        vertical-align: middle;\n",
       "    }\n",
       "\n",
       "    .dataframe tbody tr th {\n",
       "        vertical-align: top;\n",
       "    }\n",
       "\n",
       "    .dataframe thead th {\n",
       "        text-align: right;\n",
       "    }\n",
       "</style>\n",
       "<table border=\"1\" class=\"dataframe\">\n",
       "  <thead>\n",
       "    <tr style=\"text-align: right;\">\n",
       "      <th></th>\n",
       "      <th>dayofweek</th>\n",
       "    </tr>\n",
       "  </thead>\n",
       "  <tbody>\n",
       "    <tr>\n",
       "      <th>5</th>\n",
       "      <td>700551</td>\n",
       "    </tr>\n",
       "    <tr>\n",
       "      <th>6</th>\n",
       "      <td>591239</td>\n",
       "    </tr>\n",
       "    <tr>\n",
       "      <th>4</th>\n",
       "      <td>549154</td>\n",
       "    </tr>\n",
       "    <tr>\n",
       "      <th>3</th>\n",
       "      <td>491952</td>\n",
       "    </tr>\n",
       "    <tr>\n",
       "      <th>2</th>\n",
       "      <td>488584</td>\n",
       "    </tr>\n",
       "    <tr>\n",
       "      <th>1</th>\n",
       "      <td>464320</td>\n",
       "    </tr>\n",
       "    <tr>\n",
       "      <th>0</th>\n",
       "      <td>462933</td>\n",
       "    </tr>\n",
       "  </tbody>\n",
       "</table>\n",
       "</div>"
      ],
      "text/plain": [
       "   dayofweek\n",
       "5     700551\n",
       "6     591239\n",
       "4     549154\n",
       "3     491952\n",
       "2     488584\n",
       "1     464320\n",
       "0     462933"
      ]
     },
     "execution_count": 31,
     "metadata": {},
     "output_type": "execute_result"
    }
   ],
   "source": [
    "# Count of number of trips per week day\n",
    "day = pd.DataFrame(df['dayofweek'].value_counts())\n",
    "day"
   ]
  },
  {
   "cell_type": "code",
   "execution_count": 32,
   "metadata": {},
   "outputs": [
    {
     "data": {
      "image/png": "[encoded data removed]",
      "text/plain": [
       "<Figure size 1430x1170 with 1 Axes>"
      ]
     },
     "metadata": {},
     "output_type": "display_data"
    }
   ],
   "source": [
    "# Plot showing the number of trips made in each day of the week\n",
    "\n",
    "fontdict = {'fontname':'cambria', 'size':16, 'weight':'normal'}\n",
    "plt.style.use('seaborn')\n",
    "plt.figure(figsize=(11,9), dpi=130)\n",
    "plt.bar(day.index, height = day['dayofweek'])\n",
    "plt.title('Frequency of Trips by the Day of the Week', fontdict = fontdict)\n",
    "plt.xlabel('Day of the Week - 0 = Monday', fontdict = fontdict)\n",
    "plt.ylabel('Frequency', fontdict = fontdict);"
   ]
  },
  {
   "cell_type": "markdown",
   "metadata": {},
   "source": [
    "The graph shows that the users ride most on Saturday, and then Sunday and Friday."
   ]
  },
  {
   "cell_type": "code",
   "execution_count": 33,
   "metadata": {},
   "outputs": [],
   "source": [
    "dayofweek_pivot = pd.pivot_table(data = df, values = 'trip_duration', aggfunc = 'median', columns = 'user_type', index = 'dayofweek')"
   ]
  },
  {
   "cell_type": "code",
   "execution_count": 34,
   "metadata": {},
   "outputs": [
    {
     "data": {
      "text/html": [
       "<div>\n",
       "<style scoped>\n",
       "    .dataframe tbody tr th:only-of-type {\n",
       "        vertical-align: middle;\n",
       "    }\n",
       "\n",
       "    .dataframe tbody tr th {\n",
       "        vertical-align: top;\n",
       "    }\n",
       "\n",
       "    .dataframe thead th {\n",
       "        text-align: right;\n",
       "    }\n",
       "</style>\n",
       "<table border=\"1\" class=\"dataframe\">\n",
       "  <thead>\n",
       "    <tr style=\"text-align: right;\">\n",
       "      <th>user_type</th>\n",
       "      <th>casual</th>\n",
       "      <th>member</th>\n",
       "    </tr>\n",
       "    <tr>\n",
       "      <th>dayofweek</th>\n",
       "      <th></th>\n",
       "      <th></th>\n",
       "    </tr>\n",
       "  </thead>\n",
       "  <tbody>\n",
       "    <tr>\n",
       "      <th>0</th>\n",
       "      <td>20.500</td>\n",
       "      <td>10.600</td>\n",
       "    </tr>\n",
       "    <tr>\n",
       "      <th>1</th>\n",
       "      <td>18.750</td>\n",
       "      <td>10.633</td>\n",
       "    </tr>\n",
       "    <tr>\n",
       "      <th>2</th>\n",
       "      <td>18.033</td>\n",
       "      <td>10.667</td>\n",
       "    </tr>\n",
       "    <tr>\n",
       "      <th>3</th>\n",
       "      <td>18.083</td>\n",
       "      <td>10.667</td>\n",
       "    </tr>\n",
       "    <tr>\n",
       "      <th>4</th>\n",
       "      <td>19.233</td>\n",
       "      <td>10.950</td>\n",
       "    </tr>\n",
       "    <tr>\n",
       "      <th>5</th>\n",
       "      <td>22.883</td>\n",
       "      <td>12.500</td>\n",
       "    </tr>\n",
       "    <tr>\n",
       "      <th>6</th>\n",
       "      <td>24.200</td>\n",
       "      <td>12.683</td>\n",
       "    </tr>\n",
       "  </tbody>\n",
       "</table>\n",
       "</div>"
      ],
      "text/plain": [
       "user_type  casual  member\n",
       "dayofweek                \n",
       "0          20.500  10.600\n",
       "1          18.750  10.633\n",
       "2          18.033  10.667\n",
       "3          18.083  10.667\n",
       "4          19.233  10.950\n",
       "5          22.883  12.500\n",
       "6          24.200  12.683"
      ]
     },
     "execution_count": 34,
     "metadata": {},
     "output_type": "execute_result"
    }
   ],
   "source": [
    "# Pivot table showing the median ride duration by members and casual riders based on day of the week\n",
    "dayofweek_pivot"
   ]
  },
  {
   "cell_type": "code",
   "execution_count": 35,
   "metadata": {},
   "outputs": [],
   "source": [
    "x = dayofweek_pivot['casual'].index.values\n",
    "y = dayofweek_pivot['member'].index.values"
   ]
  },
  {
   "cell_type": "code",
   "execution_count": 36,
   "metadata": {},
   "outputs": [
    {
     "data": {
      "image/png": "[encoded data removed]",
      "text/plain": [
       "<Figure size 1430x1170 with 1 Axes>"
      ]
     },
     "metadata": {},
     "output_type": "display_data"
    }
   ],
   "source": [
    "#Bar graph showing the median trip duration by user type and day of week\n",
    "fontdict = {'fontname':'cambria', 'size':16, 'weight':'normal'}\n",
    "plt.style.use('seaborn')\n",
    "plt.figure(figsize=(11,9), dpi=130)\n",
    "plt.bar(x = x-0.4, height = dayofweek_pivot['casual'], width = 0.4)\n",
    "plt.bar(y, height = dayofweek_pivot['member'], width = 0.4)\n",
    "plt.title('Median Trip Length by User type and Day of week', fontdict = fontdict)\n",
    "plt.xlabel('Day of the Week - 0 = Monday', fontdict = fontdict)\n",
    "plt.ylabel('Median Trip Length in Minutes', fontdict = fontdict)\n",
    "plt.legend(['Casual', 'Member'])\n",
    "plt.show()"
   ]
  },
  {
   "cell_type": "markdown",
   "metadata": {},
   "source": [
    "Though there are more members in the data than the casual riders, the median trip duration is higher for casuals than for members. "
   ]
  },
  {
   "cell_type": "code",
   "execution_count": 37,
   "metadata": {},
   "outputs": [
    {
     "data": {
      "text/html": [
       "<div>\n",
       "<style scoped>\n",
       "    .dataframe tbody tr th:only-of-type {\n",
       "        vertical-align: middle;\n",
       "    }\n",
       "\n",
       "    .dataframe tbody tr th {\n",
       "        vertical-align: top;\n",
       "    }\n",
       "\n",
       "    .dataframe thead th {\n",
       "        text-align: right;\n",
       "    }\n",
       "</style>\n",
       "<table border=\"1\" class=\"dataframe\">\n",
       "  <thead>\n",
       "    <tr style=\"text-align: right;\">\n",
       "      <th></th>\n",
       "      <th></th>\n",
       "      <th>trip_duration</th>\n",
       "    </tr>\n",
       "    <tr>\n",
       "      <th>user_type</th>\n",
       "      <th>dayofweek</th>\n",
       "      <th></th>\n",
       "    </tr>\n",
       "  </thead>\n",
       "  <tbody>\n",
       "    <tr>\n",
       "      <th rowspan=\"7\" valign=\"top\">casual</th>\n",
       "      <th>0</th>\n",
       "      <td>20.500</td>\n",
       "    </tr>\n",
       "    <tr>\n",
       "      <th>1</th>\n",
       "      <td>18.750</td>\n",
       "    </tr>\n",
       "    <tr>\n",
       "      <th>2</th>\n",
       "      <td>18.033</td>\n",
       "    </tr>\n",
       "    <tr>\n",
       "      <th>3</th>\n",
       "      <td>18.083</td>\n",
       "    </tr>\n",
       "    <tr>\n",
       "      <th>4</th>\n",
       "      <td>19.233</td>\n",
       "    </tr>\n",
       "    <tr>\n",
       "      <th>5</th>\n",
       "      <td>22.883</td>\n",
       "    </tr>\n",
       "    <tr>\n",
       "      <th>6</th>\n",
       "      <td>24.200</td>\n",
       "    </tr>\n",
       "    <tr>\n",
       "      <th rowspan=\"7\" valign=\"top\">member</th>\n",
       "      <th>0</th>\n",
       "      <td>10.600</td>\n",
       "    </tr>\n",
       "    <tr>\n",
       "      <th>1</th>\n",
       "      <td>10.633</td>\n",
       "    </tr>\n",
       "    <tr>\n",
       "      <th>2</th>\n",
       "      <td>10.667</td>\n",
       "    </tr>\n",
       "    <tr>\n",
       "      <th>3</th>\n",
       "      <td>10.667</td>\n",
       "    </tr>\n",
       "    <tr>\n",
       "      <th>4</th>\n",
       "      <td>10.950</td>\n",
       "    </tr>\n",
       "    <tr>\n",
       "      <th>5</th>\n",
       "      <td>12.500</td>\n",
       "    </tr>\n",
       "    <tr>\n",
       "      <th>6</th>\n",
       "      <td>12.683</td>\n",
       "    </tr>\n",
       "  </tbody>\n",
       "</table>\n",
       "</div>"
      ],
      "text/plain": [
       "                     trip_duration\n",
       "user_type dayofweek               \n",
       "casual    0                 20.500\n",
       "          1                 18.750\n",
       "          2                 18.033\n",
       "          3                 18.083\n",
       "          4                 19.233\n",
       "          5                 22.883\n",
       "          6                 24.200\n",
       "member    0                 10.600\n",
       "          1                 10.633\n",
       "          2                 10.667\n",
       "          3                 10.667\n",
       "          4                 10.950\n",
       "          5                 12.500\n",
       "          6                 12.683"
      ]
     },
     "execution_count": 37,
     "metadata": {},
     "output_type": "execute_result"
    }
   ],
   "source": [
    "pd.DataFrame(df.groupby(['user_type', 'dayofweek']).median()['trip_duration'])"
   ]
  },
  {
   "cell_type": "code",
   "execution_count": 38,
   "metadata": {},
   "outputs": [
    {
     "data": {
      "text/plain": [
       "array(['docked_bike', 'electric_bike', 'classic_bike'], dtype=object)"
      ]
     },
     "execution_count": 38,
     "metadata": {},
     "output_type": "execute_result"
    }
   ],
   "source": [
    "df['rideable_type'].unique()"
   ]
  },
  {
   "cell_type": "code",
   "execution_count": 39,
   "metadata": {},
   "outputs": [],
   "source": [
    "# Pivot table showing the usage of different types of bikes by types of users\n",
    "ride_type_pivot = pd.pivot_table(data = df, index = 'rideable_type', columns = 'user_type', values = 'ride_id', aggfunc = 'count')"
   ]
  },
  {
   "cell_type": "code",
   "execution_count": 40,
   "metadata": {},
   "outputs": [
    {
     "data": {
      "text/html": [
       "<div>\n",
       "<style scoped>\n",
       "    .dataframe tbody tr th:only-of-type {\n",
       "        vertical-align: middle;\n",
       "    }\n",
       "\n",
       "    .dataframe tbody tr th {\n",
       "        vertical-align: top;\n",
       "    }\n",
       "\n",
       "    .dataframe thead th {\n",
       "        text-align: right;\n",
       "    }\n",
       "</style>\n",
       "<table border=\"1\" class=\"dataframe\">\n",
       "  <thead>\n",
       "    <tr style=\"text-align: right;\">\n",
       "      <th>user_type</th>\n",
       "      <th>casual</th>\n",
       "      <th>member</th>\n",
       "    </tr>\n",
       "    <tr>\n",
       "      <th>rideable_type</th>\n",
       "      <th></th>\n",
       "      <th></th>\n",
       "    </tr>\n",
       "  </thead>\n",
       "  <tbody>\n",
       "    <tr>\n",
       "      <th>classic_bike</th>\n",
       "      <td>264398</td>\n",
       "      <td>576650</td>\n",
       "    </tr>\n",
       "    <tr>\n",
       "      <th>docked_bike</th>\n",
       "      <td>1069164</td>\n",
       "      <td>1258224</td>\n",
       "    </tr>\n",
       "    <tr>\n",
       "      <th>electric_bike</th>\n",
       "      <td>241328</td>\n",
       "      <td>338969</td>\n",
       "    </tr>\n",
       "  </tbody>\n",
       "</table>\n",
       "</div>"
      ],
      "text/plain": [
       "user_type       casual   member\n",
       "rideable_type                  \n",
       "classic_bike    264398   576650\n",
       "docked_bike    1069164  1258224\n",
       "electric_bike   241328   338969"
      ]
     },
     "execution_count": 40,
     "metadata": {},
     "output_type": "execute_result"
    }
   ],
   "source": [
    "ride_type_pivot"
   ]
  },
  {
   "cell_type": "code",
   "execution_count": 41,
   "metadata": {},
   "outputs": [
    {
     "data": {
      "text/plain": [
       "member    2173843\n",
       "casual    1574890\n",
       "Name: user_type, dtype: int64"
      ]
     },
     "execution_count": 41,
     "metadata": {},
     "output_type": "execute_result"
    }
   ],
   "source": [
    "df['user_type'].value_counts()"
   ]
  },
  {
   "cell_type": "code",
   "execution_count": 42,
   "metadata": {},
   "outputs": [
    {
     "data": {
      "text/plain": [
       "member    2173843\n",
       "casual    1574890\n",
       "Name: user_type, dtype: int64"
      ]
     },
     "execution_count": 42,
     "metadata": {},
     "output_type": "execute_result"
    }
   ],
   "source": [
    "df['user_type'].value_counts()"
   ]
  },
  {
   "cell_type": "code",
   "execution_count": 43,
   "metadata": {},
   "outputs": [],
   "source": [
    "# creating a month variable to analyze season-based trends in ridership\n",
    "df['month'] = df['started_at'].dt.month"
   ]
  },
  {
   "cell_type": "code",
   "execution_count": 44,
   "metadata": {},
   "outputs": [
    {
     "data": {
      "text/html": [
       "<div>\n",
       "<style scoped>\n",
       "    .dataframe tbody tr th:only-of-type {\n",
       "        vertical-align: middle;\n",
       "    }\n",
       "\n",
       "    .dataframe tbody tr th {\n",
       "        vertical-align: top;\n",
       "    }\n",
       "\n",
       "    .dataframe thead th {\n",
       "        text-align: right;\n",
       "    }\n",
       "</style>\n",
       "<table border=\"1\" class=\"dataframe\">\n",
       "  <thead>\n",
       "    <tr style=\"text-align: right;\">\n",
       "      <th></th>\n",
       "      <th>ride_id</th>\n",
       "      <th>rideable_type</th>\n",
       "      <th>started_at</th>\n",
       "      <th>ended_at</th>\n",
       "      <th>start_station_name</th>\n",
       "      <th>start_station_id</th>\n",
       "      <th>end_station_name</th>\n",
       "      <th>end_station_id</th>\n",
       "      <th>start_lat</th>\n",
       "      <th>start_lng</th>\n",
       "      <th>end_lat</th>\n",
       "      <th>end_lng</th>\n",
       "      <th>user_type</th>\n",
       "      <th>trip_duration</th>\n",
       "      <th>dayofweek</th>\n",
       "      <th>month</th>\n",
       "    </tr>\n",
       "  </thead>\n",
       "  <tbody>\n",
       "    <tr>\n",
       "      <th>0</th>\n",
       "      <td>8CD5DE2C2B6C4CFC</td>\n",
       "      <td>docked_bike</td>\n",
       "      <td>2020-06-13 23:24:48</td>\n",
       "      <td>2020-06-13 23:36:55</td>\n",
       "      <td>Wilton Ave &amp; Belmont Ave</td>\n",
       "      <td>117</td>\n",
       "      <td>Damen Ave &amp; Clybourn Ave</td>\n",
       "      <td>163</td>\n",
       "      <td>41.940180</td>\n",
       "      <td>-87.653040</td>\n",
       "      <td>41.931931</td>\n",
       "      <td>-87.677856</td>\n",
       "      <td>casual</td>\n",
       "      <td>12.117</td>\n",
       "      <td>5</td>\n",
       "      <td>6</td>\n",
       "    </tr>\n",
       "    <tr>\n",
       "      <th>1</th>\n",
       "      <td>9A191EB2C751D85D</td>\n",
       "      <td>docked_bike</td>\n",
       "      <td>2020-06-26 07:26:10</td>\n",
       "      <td>2020-06-26 07:31:58</td>\n",
       "      <td>Federal St &amp; Polk St</td>\n",
       "      <td>41</td>\n",
       "      <td>Daley Center Plaza</td>\n",
       "      <td>81</td>\n",
       "      <td>41.872077</td>\n",
       "      <td>-87.629543</td>\n",
       "      <td>41.884241</td>\n",
       "      <td>-87.629634</td>\n",
       "      <td>member</td>\n",
       "      <td>5.800</td>\n",
       "      <td>4</td>\n",
       "      <td>6</td>\n",
       "    </tr>\n",
       "    <tr>\n",
       "      <th>2</th>\n",
       "      <td>F37D14B0B5659BCF</td>\n",
       "      <td>docked_bike</td>\n",
       "      <td>2020-06-23 17:12:41</td>\n",
       "      <td>2020-06-23 17:21:14</td>\n",
       "      <td>Daley Center Plaza</td>\n",
       "      <td>81</td>\n",
       "      <td>State St &amp; Harrison St</td>\n",
       "      <td>5</td>\n",
       "      <td>41.884241</td>\n",
       "      <td>-87.629634</td>\n",
       "      <td>41.874053</td>\n",
       "      <td>-87.627716</td>\n",
       "      <td>member</td>\n",
       "      <td>8.550</td>\n",
       "      <td>1</td>\n",
       "      <td>6</td>\n",
       "    </tr>\n",
       "    <tr>\n",
       "      <th>3</th>\n",
       "      <td>C41237B506E85FA1</td>\n",
       "      <td>docked_bike</td>\n",
       "      <td>2020-06-20 01:09:35</td>\n",
       "      <td>2020-06-20 01:28:24</td>\n",
       "      <td>Broadway &amp; Cornelia Ave</td>\n",
       "      <td>303</td>\n",
       "      <td>Broadway &amp; Berwyn Ave</td>\n",
       "      <td>294</td>\n",
       "      <td>41.945529</td>\n",
       "      <td>-87.646439</td>\n",
       "      <td>41.978353</td>\n",
       "      <td>-87.659753</td>\n",
       "      <td>casual</td>\n",
       "      <td>18.817</td>\n",
       "      <td>5</td>\n",
       "      <td>6</td>\n",
       "    </tr>\n",
       "    <tr>\n",
       "      <th>4</th>\n",
       "      <td>4B51B3B0BDA7787C</td>\n",
       "      <td>docked_bike</td>\n",
       "      <td>2020-06-25 16:59:25</td>\n",
       "      <td>2020-06-25 17:08:48</td>\n",
       "      <td>Sheffield Ave &amp; Webster Ave</td>\n",
       "      <td>327</td>\n",
       "      <td>Wilton Ave &amp; Belmont Ave</td>\n",
       "      <td>117</td>\n",
       "      <td>41.921540</td>\n",
       "      <td>-87.653818</td>\n",
       "      <td>41.940180</td>\n",
       "      <td>-87.653040</td>\n",
       "      <td>casual</td>\n",
       "      <td>9.383</td>\n",
       "      <td>3</td>\n",
       "      <td>6</td>\n",
       "    </tr>\n",
       "  </tbody>\n",
       "</table>\n",
       "</div>"
      ],
      "text/plain": [
       "            ride_id rideable_type          started_at            ended_at  \\\n",
       "0  8CD5DE2C2B6C4CFC   docked_bike 2020-06-13 23:24:48 2020-06-13 23:36:55   \n",
       "1  9A191EB2C751D85D   docked_bike 2020-06-26 07:26:10 2020-06-26 07:31:58   \n",
       "2  F37D14B0B5659BCF   docked_bike 2020-06-23 17:12:41 2020-06-23 17:21:14   \n",
       "3  C41237B506E85FA1   docked_bike 2020-06-20 01:09:35 2020-06-20 01:28:24   \n",
       "4  4B51B3B0BDA7787C   docked_bike 2020-06-25 16:59:25 2020-06-25 17:08:48   \n",
       "\n",
       "            start_station_name start_station_id          end_station_name  \\\n",
       "0     Wilton Ave & Belmont Ave              117  Damen Ave & Clybourn Ave   \n",
       "1         Federal St & Polk St               41        Daley Center Plaza   \n",
       "2           Daley Center Plaza               81    State St & Harrison St   \n",
       "3      Broadway & Cornelia Ave              303     Broadway & Berwyn Ave   \n",
       "4  Sheffield Ave & Webster Ave              327  Wilton Ave & Belmont Ave   \n",
       "\n",
       "  end_station_id  start_lat  start_lng    end_lat    end_lng user_type  \\\n",
       "0            163  41.940180 -87.653040  41.931931 -87.677856    casual   \n",
       "1             81  41.872077 -87.629543  41.884241 -87.629634    member   \n",
       "2              5  41.884241 -87.629634  41.874053 -87.627716    member   \n",
       "3            294  41.945529 -87.646439  41.978353 -87.659753    casual   \n",
       "4            117  41.921540 -87.653818  41.940180 -87.653040    casual   \n",
       "\n",
       "   trip_duration  dayofweek  month  \n",
       "0         12.117          5      6  \n",
       "1          5.800          4      6  \n",
       "2          8.550          1      6  \n",
       "3         18.817          5      6  \n",
       "4          9.383          3      6  "
      ]
     },
     "execution_count": 44,
     "metadata": {},
     "output_type": "execute_result"
    }
   ],
   "source": [
    "df.head()"
   ]
  },
  {
   "cell_type": "code",
   "execution_count": 45,
   "metadata": {},
   "outputs": [
    {
     "data": {
      "text/html": [
       "<div>\n",
       "<style scoped>\n",
       "    .dataframe tbody tr th:only-of-type {\n",
       "        vertical-align: middle;\n",
       "    }\n",
       "\n",
       "    .dataframe tbody tr th {\n",
       "        vertical-align: top;\n",
       "    }\n",
       "\n",
       "    .dataframe thead th {\n",
       "        text-align: right;\n",
       "    }\n",
       "</style>\n",
       "<table border=\"1\" class=\"dataframe\">\n",
       "  <thead>\n",
       "    <tr style=\"text-align: right;\">\n",
       "      <th>user_type</th>\n",
       "      <th>casual</th>\n",
       "      <th>member</th>\n",
       "    </tr>\n",
       "    <tr>\n",
       "      <th>month</th>\n",
       "      <th></th>\n",
       "      <th></th>\n",
       "    </tr>\n",
       "  </thead>\n",
       "  <tbody>\n",
       "    <tr>\n",
       "      <th>1</th>\n",
       "      <td>14690</td>\n",
       "      <td>68818</td>\n",
       "    </tr>\n",
       "    <tr>\n",
       "      <th>2</th>\n",
       "      <td>8613</td>\n",
       "      <td>34381</td>\n",
       "    </tr>\n",
       "    <tr>\n",
       "      <th>3</th>\n",
       "      <td>75641</td>\n",
       "      <td>130046</td>\n",
       "    </tr>\n",
       "    <tr>\n",
       "      <th>4</th>\n",
       "      <td>120418</td>\n",
       "      <td>177781</td>\n",
       "    </tr>\n",
       "    <tr>\n",
       "      <th>5</th>\n",
       "      <td>216823</td>\n",
       "      <td>234155</td>\n",
       "    </tr>\n",
       "    <tr>\n",
       "      <th>6</th>\n",
       "      <td>154329</td>\n",
       "      <td>187711</td>\n",
       "    </tr>\n",
       "    <tr>\n",
       "      <th>7</th>\n",
       "      <td>268103</td>\n",
       "      <td>280514</td>\n",
       "    </tr>\n",
       "    <tr>\n",
       "      <th>8</th>\n",
       "      <td>281945</td>\n",
       "      <td>323707</td>\n",
       "    </tr>\n",
       "    <tr>\n",
       "      <th>9</th>\n",
       "      <td>214672</td>\n",
       "      <td>283556</td>\n",
       "    </tr>\n",
       "    <tr>\n",
       "      <th>10</th>\n",
       "      <td>122317</td>\n",
       "      <td>215058</td>\n",
       "    </tr>\n",
       "    <tr>\n",
       "      <th>11</th>\n",
       "      <td>72847</td>\n",
       "      <td>149069</td>\n",
       "    </tr>\n",
       "    <tr>\n",
       "      <th>12</th>\n",
       "      <td>24492</td>\n",
       "      <td>89047</td>\n",
       "    </tr>\n",
       "  </tbody>\n",
       "</table>\n",
       "</div>"
      ],
      "text/plain": [
       "user_type  casual  member\n",
       "month                    \n",
       "1           14690   68818\n",
       "2            8613   34381\n",
       "3           75641  130046\n",
       "4          120418  177781\n",
       "5          216823  234155\n",
       "6          154329  187711\n",
       "7          268103  280514\n",
       "8          281945  323707\n",
       "9          214672  283556\n",
       "10         122317  215058\n",
       "11          72847  149069\n",
       "12          24492   89047"
      ]
     },
     "execution_count": 45,
     "metadata": {},
     "output_type": "execute_result"
    }
   ],
   "source": [
    "monthly = pd.pivot_table(data = df, values = 'ride_id', aggfunc = 'count', columns = 'user_type', index = 'month')\n",
    "monthly"
   ]
  },
  {
   "cell_type": "code",
   "execution_count": 46,
   "metadata": {},
   "outputs": [
    {
     "data": {
      "image/png": "[encoded data removed]",
      "text/plain": [
       "<Figure size 1430x1170 with 1 Axes>"
      ]
     },
     "metadata": {},
     "output_type": "display_data"
    }
   ],
   "source": [
    "# Bar graph showing monthly ridership by user type\n",
    "\n",
    "x = monthly['casual'].index.values\n",
    "fontdict = {'fontname':'cambria', 'size':16, 'weight':'normal'}\n",
    "plt.style.use('seaborn')\n",
    "plt.figure(figsize=(11,9), dpi=130)\n",
    "plt.bar(x = x-0.3, height = monthly['casual'], width = 0.3)\n",
    "plt.bar(x = x, height = monthly['member'], width = 0.3)\n",
    "plt.title('Number of trips by User Type per Month', fontdict = fontdict)\n",
    "plt.xlabel('Month', fontdict = fontdict)\n",
    "plt.ylabel('Number of Trips', fontdict = fontdict)\n",
    "plt.legend(['Casual', 'Member'])\n",
    "plt.xticks(ticks = x, labels = ['Jan', 'Feb', 'Mar', 'Apr', 'May', 'Jun', 'Jul', 'Aug', 'Sep', 'Oct', 'Nov', 'Dec'])\n",
    "plt.show()"
   ]
  },
  {
   "cell_type": "markdown",
   "metadata": {},
   "source": [
    "June, July, August are typically the summer months of Chicago, and that shows through the higher ridership for both casual and annual members in Cyclistic data. "
   ]
  },
  {
   "cell_type": "code",
   "execution_count": 47,
   "metadata": {},
   "outputs": [
    {
     "data": {
      "text/html": [
       "<div>\n",
       "<style scoped>\n",
       "    .dataframe tbody tr th:only-of-type {\n",
       "        vertical-align: middle;\n",
       "    }\n",
       "\n",
       "    .dataframe tbody tr th {\n",
       "        vertical-align: top;\n",
       "    }\n",
       "\n",
       "    .dataframe thead th {\n",
       "        text-align: right;\n",
       "    }\n",
       "</style>\n",
       "<table border=\"1\" class=\"dataframe\">\n",
       "  <thead>\n",
       "    <tr style=\"text-align: right;\">\n",
       "      <th>user_type</th>\n",
       "      <th>casual</th>\n",
       "      <th>member</th>\n",
       "    </tr>\n",
       "    <tr>\n",
       "      <th>month</th>\n",
       "      <th></th>\n",
       "      <th></th>\n",
       "    </tr>\n",
       "  </thead>\n",
       "  <tbody>\n",
       "    <tr>\n",
       "      <th>1</th>\n",
       "      <td>12.650</td>\n",
       "      <td>8.750</td>\n",
       "    </tr>\n",
       "    <tr>\n",
       "      <th>2</th>\n",
       "      <td>16.717</td>\n",
       "      <td>10.183</td>\n",
       "    </tr>\n",
       "    <tr>\n",
       "      <th>3</th>\n",
       "      <td>19.433</td>\n",
       "      <td>10.033</td>\n",
       "    </tr>\n",
       "    <tr>\n",
       "      <th>4</th>\n",
       "      <td>18.767</td>\n",
       "      <td>10.450</td>\n",
       "    </tr>\n",
       "    <tr>\n",
       "      <th>5</th>\n",
       "      <td>19.683</td>\n",
       "      <td>10.617</td>\n",
       "    </tr>\n",
       "    <tr>\n",
       "      <th>6</th>\n",
       "      <td>24.633</td>\n",
       "      <td>14.317</td>\n",
       "    </tr>\n",
       "    <tr>\n",
       "      <th>7</th>\n",
       "      <td>25.417</td>\n",
       "      <td>13.383</td>\n",
       "    </tr>\n",
       "    <tr>\n",
       "      <th>8</th>\n",
       "      <td>22.167</td>\n",
       "      <td>12.300</td>\n",
       "    </tr>\n",
       "    <tr>\n",
       "      <th>9</th>\n",
       "      <td>19.417</td>\n",
       "      <td>11.100</td>\n",
       "    </tr>\n",
       "    <tr>\n",
       "      <th>10</th>\n",
       "      <td>16.517</td>\n",
       "      <td>9.967</td>\n",
       "    </tr>\n",
       "    <tr>\n",
       "      <th>11</th>\n",
       "      <td>17.133</td>\n",
       "      <td>9.733</td>\n",
       "    </tr>\n",
       "    <tr>\n",
       "      <th>12</th>\n",
       "      <td>13.983</td>\n",
       "      <td>9.000</td>\n",
       "    </tr>\n",
       "  </tbody>\n",
       "</table>\n",
       "</div>"
      ],
      "text/plain": [
       "user_type  casual  member\n",
       "month                    \n",
       "1          12.650   8.750\n",
       "2          16.717  10.183\n",
       "3          19.433  10.033\n",
       "4          18.767  10.450\n",
       "5          19.683  10.617\n",
       "6          24.633  14.317\n",
       "7          25.417  13.383\n",
       "8          22.167  12.300\n",
       "9          19.417  11.100\n",
       "10         16.517   9.967\n",
       "11         17.133   9.733\n",
       "12         13.983   9.000"
      ]
     },
     "execution_count": 47,
     "metadata": {},
     "output_type": "execute_result"
    }
   ],
   "source": [
    "monthly_duration = pd.pivot_table(data = df, values = 'trip_duration', aggfunc = 'median', columns = 'user_type', index = 'month')\n",
    "monthly_duration"
   ]
  },
  {
   "cell_type": "code",
   "execution_count": 48,
   "metadata": {},
   "outputs": [
    {
     "data": {
      "image/png": "[encoded data removed]",
      "text/plain": [
       "<Figure size 1430x1170 with 1 Axes>"
      ]
     },
     "metadata": {},
     "output_type": "display_data"
    }
   ],
   "source": [
    "# Monthly median trip duration by user type\n",
    "\n",
    "x = monthly_duration['casual'].index.values\n",
    "fontdict = {'fontname':'cambria', 'size':16, 'weight':'normal'}\n",
    "plt.style.use('seaborn')\n",
    "plt.figure(figsize=(11,9), dpi=130)\n",
    "plt.bar(x = x-0.3, height = monthly_duration['casual'], width = 0.3)\n",
    "plt.bar(x = x, height = monthly_duration['member'], width = 0.3)\n",
    "plt.title('Median trip Duration by User Type per Month', fontdict = fontdict)\n",
    "plt.xlabel('Month', fontdict = fontdict)\n",
    "plt.ylabel('Trip Duration', fontdict = fontdict)\n",
    "plt.legend(['Casual', 'Member'])\n",
    "plt.xticks(ticks = x, labels = ['Jan', 'Feb', 'Mar', 'Apr', 'May', 'Jun', 'Jul', 'Aug', 'Sep', 'Oct', 'Nov', 'Dec'])\n",
    "plt.show()"
   ]
  },
  {
   "cell_type": "markdown",
   "metadata": {},
   "source": [
    "As observed earlier, the Casual users have a much higher median trip duration than annual members, and both user types correspond to the same season-based increase and decrease in ridership."
   ]
  },
  {
   "cell_type": "code",
   "execution_count": null,
   "metadata": {},
   "outputs": [],
   "source": []
  }
 ],
 "metadata": {
  "kernelspec": {
   "display_name": "Python 3",
   "language": "python",
   "name": "python3"
  },
  "language_info": {
   "codemirror_mode": {
    "name": "ipython",
    "version": 3
   },
   "file_extension": ".py",
   "mimetype": "text/x-python",
   "name": "python",
   "nbconvert_exporter": "python",
   "pygments_lexer": "ipython3",
   "version": "3.8.5"
  }
 },
 "nbformat": 4,
 "nbformat_minor": 4
}
